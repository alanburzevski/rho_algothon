{
 "metadata": {
  "language_info": {
   "codemirror_mode": {
    "name": "ipython",
    "version": 3
   },
   "file_extension": ".py",
   "mimetype": "text/x-python",
   "name": "python",
   "nbconvert_exporter": "python",
   "pygments_lexer": "ipython3",
   "version": "3.9.5"
  },
  "orig_nbformat": 4,
  "kernelspec": {
   "name": "python3",
   "display_name": "Python 3.9.5 64-bit"
  },
  "interpreter": {
   "hash": "aee8b7b246df8f9039afb4144a1f6fd8d2ca17a180786b69acc140d282b71a49"
  }
 },
 "nbformat": 4,
 "nbformat_minor": 2,
 "cells": [
  {
   "cell_type": "code",
   "execution_count": null,
   "source": [
    "## Importing packages\n",
    "\n",
    "import pandas as pd\n",
    "import numpy as np\n",
    "import itertools\n",
    "\n",
    "import matplotlib.pyplot as plt\n",
    "from statsmodels.graphics.tsaplots import plot_acf\n",
    "from statsmodels.tsa.arima.model import ARIMA"
   ],
   "outputs": [],
   "metadata": {}
  },
  {
   "cell_type": "code",
   "execution_count": null,
   "source": [
    "## Reading data\n",
    "dataRaw = pd.read_csv('./prices250.txt', delimiter = '\\s+', header = None).T\n",
    "\n",
    "## Adding column names (for each timepoint)\n",
    "dataRaw.columns = ['price' + str(x) for x in range(1, dataRaw.shape[1]+1, 1)]\n",
    "\n",
    "## Adding column representing which instrument\n",
    "dataRaw['instrument'] = ['instrument' + str(x) for x in range(1, dataRaw.shape[0]+1, 1)]\n",
    "\n",
    "## Converting to long format\n",
    "data = pd.wide_to_long(dataRaw, stubnames = 'price', i = 'instrument', j = 'time')\n",
    "data['instrument'] = [x[0] for x in data.index]\n",
    "data['time'] = [x[1] for x in data.index]\n",
    "data.reset_index(drop = True, inplace = True)"
   ],
   "outputs": [],
   "metadata": {}
  },
  {
   "cell_type": "code",
   "execution_count": null,
   "source": [
    "## Autocorrelation graph\r\n",
    "\r\n",
    "for i in range(1, 101, 1):\r\n",
    "    instrument = data[data['instrument'] == ('instrument' + str(i))]['price']\r\n",
    "    pd.plotting.autocorrelation_plot(instrument, linewidth = 0.5)"
   ],
   "outputs": [],
   "metadata": {
    "tags": []
   }
  },
  {
   "cell_type": "markdown",
   "source": [
    "## Instrument 1 ARIMA"
   ],
   "metadata": {}
  },
  {
   "cell_type": "code",
   "execution_count": null,
   "source": [
    "## Subset for testing\n",
    "\n",
    "dataInstrument1 = data[data[\"instrument\"] == \"instrument1\"][[\"price\", \"time\"]].set_index(\"time\")\n",
    "dataInstrument1.index = pd.to_datetime(dataInstrument1.index, unit = 'd')"
   ],
   "outputs": [],
   "metadata": {}
  },
  {
   "cell_type": "code",
   "execution_count": null,
   "source": [
    "## Looking for optimal ARIMA parameters\n",
    "\n",
    "# trainData = dataInstrument1[\"price\"][:225]\n",
    "# testData = dataInstrument1[\"price\"][225:]\n",
    "\n",
    "# p = range(30, 31, 1)\n",
    "# d = q = range(0, 2)\n",
    "# pdq = list(itertools.product(p, d, q))\n",
    "# modelAIC = []\n",
    "\n",
    "# for paramlist in pdq:\n",
    "#     arimaModel = ARIMA(trainData, order = paramlist)\n",
    "#     arimaModelFit = arimaModel.fit()\n",
    "#     modelAIC.append(arimaModelFit.aic)\n",
    "\n",
    "# for i in range(len(modelAIC)):\n",
    "#     if list(modelAIC == min(modelAIC))[i] == True:\n",
    "#         print(pdq[i])"
   ],
   "outputs": [],
   "metadata": {
    "tags": []
   }
  },
  {
   "cell_type": "code",
   "execution_count": null,
   "source": [
    "## Training using optimised parameters\n",
    "\n",
    "trainData = dataInstrument1[\"price\"][:225]\n",
    "testData = dataInstrument1[\"price\"][225:]\n",
    "arimaModel = ARIMA(trainData, order = (30, 1, 0))\n",
    "arimaModelFit = arimaModel.fit()\n",
    "predictions = arimaModelFit.forecast(steps = 25)\n",
    "\n",
    "testData.plot()\n",
    "predictions.plot(color = \"red\")"
   ],
   "outputs": [],
   "metadata": {}
  },
  {
   "source": [
    "## Modern Portfolio Theory Implementation"
   ],
   "cell_type": "markdown",
   "metadata": {}
  },
  {
   "cell_type": "code",
   "execution_count": null,
   "metadata": {},
   "outputs": [],
   "source": [
    "dataRaw = open(\"./prices250.txt\", \"r\")"
   ]
  }
 ]
}