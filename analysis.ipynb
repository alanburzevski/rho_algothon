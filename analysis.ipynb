{
 "metadata": {
  "language_info": {
   "codemirror_mode": {
    "name": "ipython",
    "version": 3
   },
   "file_extension": ".py",
   "mimetype": "text/x-python",
   "name": "python",
   "nbconvert_exporter": "python",
   "pygments_lexer": "ipython3",
   "version": "3.9.5"
  },
  "orig_nbformat": 4,
  "kernelspec": {
   "name": "python3",
   "display_name": "Python 3.9.5 64-bit ('venv': venv)"
  },
  "interpreter": {
   "hash": "98badd5df140017c55417708cd72872d7a3f7c451072b7fd3118579b7246fb3c"
  }
 },
 "nbformat": 4,
 "nbformat_minor": 2,
 "cells": [
  {
   "cell_type": "code",
   "execution_count": null,
   "source": [
    "## Importing packages\n",
    "\n",
    "import pandas as pd\n",
    "import numpy as np\n",
    "import itertools\n",
    "\n",
    "import matplotlib.pyplot as plt\n",
    "from statsmodels.graphics.tsaplots import plot_acf\n",
    "from statsmodels.tsa.arima.model import ARIMA"
   ],
   "outputs": [],
   "metadata": {}
  },
  {
   "cell_type": "code",
   "execution_count": null,
   "source": [
    "## Reading data\r\n",
    "data_raw = pd.read_csv('./prices250.txt', delimiter = '\\s+', header = None).T\r\n",
    "\r\n",
    "## Adding column names (for each timepoint)\r\n",
    "data_raw.columns = ['price' + str(x) for x in range(1, data_raw.shape[1]+1, 1)]\r\n",
    "\r\n",
    "## Adding column representing which instrument\r\n",
    "data_raw['instrument'] = ['instrument' + str(x) for x in range(1, data_raw.shape[0]+1, 1)]\r\n",
    "\r\n",
    "## Converting to long format\r\n",
    "data = pd.wide_to_long(data_raw, stubnames = 'price', i = 'instrument', j = 'time')\r\n",
    "data['instrument'] = [x[0] for x in data.index]\r\n",
    "data['time'] = [x[1] for x in data.index]\r\n",
    "data.reset_index(drop = True, inplace = True)"
   ],
   "outputs": [],
   "metadata": {}
  },
  {
   "cell_type": "code",
   "execution_count": null,
   "source": [
    "## Autocorrelation graph\r\n",
    "\r\n",
    "for i in range(1, 101, 1):\r\n",
    "    instrument = data[data['instrument'] == ('instrument' + str(i))]['price']\r\n",
    "    pd.plotting.autocorrelation_plot(instrument, linewidth = 0.5)"
   ],
   "outputs": [],
   "metadata": {
    "tags": []
   }
  },
  {
   "cell_type": "markdown",
   "source": [
    "## Instrument 1 Subset"
   ],
   "metadata": {}
  },
  {
   "cell_type": "code",
   "execution_count": null,
   "source": [
    "## Subset for testing\n",
    "\n",
    "data_instrument1 = data[data[\"instrument\"] == \"instrument1\"][[\"price\", \"time\"]].set_index(\"time\")\n",
    "data_instrument1.index = pd.to_datetime(data_instrument1.index, unit = 'd')"
   ],
   "outputs": [],
   "metadata": {}
  },
  {
   "cell_type": "code",
   "execution_count": null,
   "source": [
    "## Looking for optimal ARIMA parameters\n",
    "\n",
    "# trainData = data_instrument1[\"price\"][:225]\n",
    "# testData = data_instrument1[\"price\"][225:]\n",
    "\n",
    "# p = range(30, 31, 1)\n",
    "# d = q = range(0, 2)\n",
    "# pdq = list(itertools.product(p, d, q))\n",
    "# model_AIC = []\n",
    "\n",
    "# for paramlist in pdq:\n",
    "#     arima_model = ARIMA(trainData, order = paramlist)\n",
    "#     arima_model_fit = arima_model.fit()\n",
    "#     model_AIC.append(arima_model_fit.aic)\n",
    "\n",
    "# for i in range(len(model_AIC)):\n",
    "#     if list(model_AIC == min(model_AIC))[i] == True:\n",
    "#         print(pdq[i])"
   ],
   "outputs": [],
   "metadata": {
    "tags": []
   }
  },
  {
   "cell_type": "code",
   "execution_count": null,
   "source": [
    "## Training using optimised parameters\n",
    "\n",
    "trainData = data_instrument1[\"price\"][:225]\n",
    "testData = data_instrument1[\"price\"][225:]\n",
    "arima_model = ARIMA(trainData, order = (30, 1, 0))\n",
    "arima_model_fit = arima_model.fit()\n",
    "predictions = arima_model_fit.forecast(steps = 25)\n",
    "\n",
    "testData.plot()\n",
    "predictions.plot(color = \"red\")"
   ],
   "outputs": [],
   "metadata": {}
  },
  {
   "cell_type": "code",
   "execution_count": null,
   "source": [],
   "outputs": [],
   "metadata": {}
  }
 ]
}